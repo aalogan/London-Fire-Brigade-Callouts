{
 "cells": [
  {
   "cell_type": "code",
   "execution_count": null,
   "metadata": {},
   "outputs": [],
   "source": []
  },
  {
   "cell_type": "code",
   "execution_count": 1,
   "metadata": {
    "ExecuteTime": {
     "end_time": "2021-03-07T14:50:35.124275Z",
     "start_time": "2021-03-07T14:50:33.367563Z"
    }
   },
   "outputs": [],
   "source": [
    "import pandas as pd\n",
    "import numpy as np\n",
    "import datetime\n",
    "from datetime import timedelta\n",
    "import matplotlib.pyplot as plt\n",
    "import seaborn as sns\n",
    "\n",
    "plt.style.use('fivethirtyeight')\n",
    "\n",
    "%matplotlib inline\n",
    "%config InlineBackend.figure_format = 'retina'"
   ]
  },
  {
   "cell_type": "code",
   "execution_count": 2,
   "metadata": {
    "ExecuteTime": {
     "end_time": "2021-03-07T14:50:36.940560Z",
     "start_time": "2021-03-07T14:50:36.242563Z"
    }
   },
   "outputs": [],
   "source": [
    "from sklearn.preprocessing import StandardScaler\n",
    "from sklearn.model_selection import train_test_split, cross_val_score"
   ]
  },
  {
   "cell_type": "code",
   "execution_count": 10,
   "metadata": {
    "ExecuteTime": {
     "end_time": "2021-03-07T15:04:45.294401Z",
     "start_time": "2021-03-07T15:04:45.062536Z"
    }
   },
   "outputs": [],
   "source": [
    "LFB = pd.read_csv('../Assets/LFBgts.csv')\n",
    "LFB.ob_time = pd.to_datetime(LFB.ob_time)\n",
    "LFB.set_index('ob_time', inplace = True, drop=True)\n",
    "LFB1 = LFB[[\n",
    " 'HourOfCall',\n",
    " 'callouts',\n",
    " 'cld_ttl_amt_id',\n",
    " 'islight',\n",
    " 'max_gust_speed',\n",
    " 'prcp_amt',\n",
    " 'rltv_hum',\n",
    " 'stn_pres',\n",
    " 'visibility',\n",
    " 'wind_speed',\n",
    " 'wmo_hr_sun_dur',\n",
    " 'holiday',\n",
    " 'weekend',\n",
    " 'lockdown',\n",
    " 'air_temperature',\n",
    " 'prioryear',\n",
    " 'wind_dirc',\n",
    " 'tempsq']]\n",
    "LFBdum = pd.get_dummies(\n",
    "    LFB1, columns=['wind_dirc', 'HourOfCall'])"
   ]
  },
  {
   "cell_type": "code",
   "execution_count": 11,
   "metadata": {
    "ExecuteTime": {
     "end_time": "2021-03-07T15:04:46.277166Z",
     "start_time": "2021-03-07T15:04:46.271168Z"
    }
   },
   "outputs": [],
   "source": [
    "y = LFBdum.pop('callouts')"
   ]
  },
  {
   "cell_type": "code",
   "execution_count": 12,
   "metadata": {
    "ExecuteTime": {
     "end_time": "2021-03-07T15:04:47.260056Z",
     "start_time": "2021-03-07T15:04:47.249043Z"
    }
   },
   "outputs": [],
   "source": [
    "X = LFBdum.copy()"
   ]
  },
  {
   "cell_type": "code",
   "execution_count": 13,
   "metadata": {
    "ExecuteTime": {
     "end_time": "2021-03-07T15:04:48.209840Z",
     "start_time": "2021-03-07T15:04:48.140187Z"
    }
   },
   "outputs": [],
   "source": [
    "X_train, X_test, y_train, y_test = train_test_split(\n",
    "    X, y, test_size=0.2, random_state=1)"
   ]
  },
  {
   "cell_type": "code",
   "execution_count": 14,
   "metadata": {
    "ExecuteTime": {
     "end_time": "2021-03-07T15:04:51.886260Z",
     "start_time": "2021-03-07T15:04:51.777154Z"
    }
   },
   "outputs": [],
   "source": [
    "scaler = StandardScaler()\n",
    "X_train = scaler.fit_transform(X_train)\n",
    "X_test = scaler.transform(X_test)"
   ]
  },
  {
   "cell_type": "code",
   "execution_count": 15,
   "metadata": {
    "ExecuteTime": {
     "end_time": "2021-03-07T15:04:52.603142Z",
     "start_time": "2021-03-07T15:04:52.589150Z"
    }
   },
   "outputs": [],
   "source": [
    "from sklearn.neural_network import MLPRegressor\n",
    "from sklearn import metrics"
   ]
  },
  {
   "cell_type": "code",
   "execution_count": 16,
   "metadata": {
    "ExecuteTime": {
     "end_time": "2021-03-07T15:18:30.624732Z",
     "start_time": "2021-03-07T15:04:58.136138Z"
    }
   },
   "outputs": [
    {
     "name": "stdout",
     "output_type": "stream",
     "text": [
      "Train Score  0.6166966267922811\n",
      "Test Score  0.5130695806250726\n",
      "CV score:  0.463907390034625\n"
     ]
    }
   ],
   "source": [
    "regr = MLPRegressor(solver='adam',\n",
    "                    alpha=10**(0),\n",
    "                    hidden_layer_sizes=(50,50,50,50,50),\n",
    "                    activation='relu',\n",
    "                    random_state=42,\n",
    "                    batch_size=50,\n",
    "                    max_iter=500)\n",
    "regr.fit(X_train, y_train)\n",
    "print('Train Score ', regr.score(X_train,y_train))\n",
    "print('Test Score ', regr.score(X_test, y_test))\n",
    "print('CV score: ', (cross_val_score(regr, X_train, y_train, n_jobs = -2)).mean())"
   ]
  },
  {
   "cell_type": "code",
   "execution_count": null,
   "metadata": {},
   "outputs": [],
   "source": []
  }
 ],
 "metadata": {
  "kernelspec": {
   "display_name": "Python 3",
   "language": "python",
   "name": "python3"
  },
  "language_info": {
   "codemirror_mode": {
    "name": "ipython",
    "version": 3
   },
   "file_extension": ".py",
   "mimetype": "text/x-python",
   "name": "python",
   "nbconvert_exporter": "python",
   "pygments_lexer": "ipython3",
   "version": "3.8.5"
  },
  "toc": {
   "base_numbering": 1,
   "nav_menu": {},
   "number_sections": true,
   "sideBar": true,
   "skip_h1_title": false,
   "title_cell": "Table of Contents",
   "title_sidebar": "Contents",
   "toc_cell": false,
   "toc_position": {},
   "toc_section_display": true,
   "toc_window_display": false
  }
 },
 "nbformat": 4,
 "nbformat_minor": 4
}
