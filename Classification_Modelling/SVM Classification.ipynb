{
 "cells": [
  {
   "cell_type": "markdown",
   "metadata": {},
   "source": [
    "Separate Notebook due to slowness."
   ]
  },
  {
   "cell_type": "code",
   "execution_count": 1,
   "metadata": {
    "ExecuteTime": {
     "end_time": "2021-03-01T09:31:33.582104Z",
     "start_time": "2021-03-01T09:31:28.200194Z"
    }
   },
   "outputs": [],
   "source": [
    "import pandas as pd\n",
    "import numpy as np\n",
    "import datetime\n",
    "from datetime import timedelta\n",
    "import matplotlib.pyplot as plt\n",
    "import seaborn as sns\n",
    "\n",
    "plt.style.use('fivethirtyeight')\n",
    "\n",
    "%matplotlib inline\n",
    "%config InlineBackend.figure_format = 'retina'"
   ]
  },
  {
   "cell_type": "code",
   "execution_count": 2,
   "metadata": {
    "ExecuteTime": {
     "end_time": "2021-03-01T09:31:35.592951Z",
     "start_time": "2021-03-01T09:31:33.587102Z"
    }
   },
   "outputs": [],
   "source": [
    "from sklearn.preprocessing import StandardScaler\n",
    "from sklearn.model_selection import train_test_split, cross_val_score\n",
    "from sklearn.metrics import classification_report, mean_squared_error,r2_score\n",
    "from sklearn.metrics import confusion_matrix, accuracy_score, plot_confusion_matrix\n",
    "from sklearn.model_selection import GridSearchCV"
   ]
  },
  {
   "cell_type": "code",
   "execution_count": 3,
   "metadata": {
    "ExecuteTime": {
     "end_time": "2021-03-01T09:31:37.671758Z",
     "start_time": "2021-03-01T09:31:35.596948Z"
    }
   },
   "outputs": [],
   "source": [
    "LFBclass = pd.read_csv('../Assets/LFBClass.csv')"
   ]
  },
  {
   "cell_type": "code",
   "execution_count": 4,
   "metadata": {
    "ExecuteTime": {
     "end_time": "2021-03-01T09:32:54.863551Z",
     "start_time": "2021-03-01T09:31:40.448214Z"
    }
   },
   "outputs": [
    {
     "name": "stderr",
     "output_type": "stream",
     "text": [
      "<ipython-input-4-bbee4ccaf52c>:9: SettingWithCopyWarning: \n",
      "A value is trying to be set on a copy of a slice from a DataFrame\n",
      "\n",
      "See the caveats in the documentation: https://pandas.pydata.org/pandas-docs/stable/user_guide/indexing.html#returning-a-view-versus-a-copy\n",
      "  LFBclass['lockdown'][i] = 1\n"
     ]
    }
   ],
   "source": [
    "LFBclass['ob_time'] = pd.to_datetime(LFBclass.ob_time)\n",
    "LFBclass.set_index('ob_time', inplace=True, drop=True)"
   ]
  },
  {
   "cell_type": "code",
   "execution_count": 5,
   "metadata": {
    "ExecuteTime": {
     "end_time": "2021-03-01T09:35:27.980782Z",
     "start_time": "2021-03-01T09:35:27.933813Z"
    }
   },
   "outputs": [
    {
     "data": {
      "text/html": [
       "<div>\n",
       "<style scoped>\n",
       "    .dataframe tbody tr th:only-of-type {\n",
       "        vertical-align: middle;\n",
       "    }\n",
       "\n",
       "    .dataframe tbody tr th {\n",
       "        vertical-align: top;\n",
       "    }\n",
       "\n",
       "    .dataframe thead th {\n",
       "        text-align: right;\n",
       "    }\n",
       "</style>\n",
       "<table border=\"1\" class=\"dataframe\">\n",
       "  <thead>\n",
       "    <tr style=\"text-align: right;\">\n",
       "      <th></th>\n",
       "      <th>HourOfCall</th>\n",
       "      <th>IncidentGroup</th>\n",
       "      <th>PropertyType</th>\n",
       "      <th>holiday</th>\n",
       "      <th>weekend</th>\n",
       "      <th>air_temperature</th>\n",
       "      <th>cld_ttl_amt_id</th>\n",
       "      <th>islight</th>\n",
       "      <th>max_gust_speed</th>\n",
       "      <th>prcp_amt</th>\n",
       "      <th>rltv_hum</th>\n",
       "      <th>stn_pres</th>\n",
       "      <th>visibility</th>\n",
       "      <th>wind_speed</th>\n",
       "      <th>wmo_hr_sun_dur</th>\n",
       "      <th>wind_dirc</th>\n",
       "      <th>lockdown</th>\n",
       "    </tr>\n",
       "    <tr>\n",
       "      <th>ob_time</th>\n",
       "      <th></th>\n",
       "      <th></th>\n",
       "      <th></th>\n",
       "      <th></th>\n",
       "      <th></th>\n",
       "      <th></th>\n",
       "      <th></th>\n",
       "      <th></th>\n",
       "      <th></th>\n",
       "      <th></th>\n",
       "      <th></th>\n",
       "      <th></th>\n",
       "      <th></th>\n",
       "      <th></th>\n",
       "      <th></th>\n",
       "      <th></th>\n",
       "      <th></th>\n",
       "    </tr>\n",
       "  </thead>\n",
       "  <tbody>\n",
       "    <tr>\n",
       "      <th>2016-01-01</th>\n",
       "      <td>0</td>\n",
       "      <td>False Alarm</td>\n",
       "      <td>House - single occupancy</td>\n",
       "      <td>1</td>\n",
       "      <td>0</td>\n",
       "      <td>3.8</td>\n",
       "      <td>0.0</td>\n",
       "      <td>0</td>\n",
       "      <td>14.0</td>\n",
       "      <td>0.0</td>\n",
       "      <td>89.8</td>\n",
       "      <td>1017.8</td>\n",
       "      <td>2000.0</td>\n",
       "      <td>6.0</td>\n",
       "      <td>0.0</td>\n",
       "      <td>13</td>\n",
       "      <td>0</td>\n",
       "    </tr>\n",
       "    <tr>\n",
       "      <th>2016-01-01</th>\n",
       "      <td>0</td>\n",
       "      <td>Special Service</td>\n",
       "      <td>River/canal</td>\n",
       "      <td>1</td>\n",
       "      <td>0</td>\n",
       "      <td>3.8</td>\n",
       "      <td>0.0</td>\n",
       "      <td>0</td>\n",
       "      <td>14.0</td>\n",
       "      <td>0.0</td>\n",
       "      <td>89.8</td>\n",
       "      <td>1017.8</td>\n",
       "      <td>2000.0</td>\n",
       "      <td>6.0</td>\n",
       "      <td>0.0</td>\n",
       "      <td>13</td>\n",
       "      <td>0</td>\n",
       "    </tr>\n",
       "    <tr>\n",
       "      <th>2016-01-01</th>\n",
       "      <td>0</td>\n",
       "      <td>Special Service</td>\n",
       "      <td>Purpose Built Flats/Maisonettes - 4 to 9 storeys</td>\n",
       "      <td>1</td>\n",
       "      <td>0</td>\n",
       "      <td>3.8</td>\n",
       "      <td>0.0</td>\n",
       "      <td>0</td>\n",
       "      <td>14.0</td>\n",
       "      <td>0.0</td>\n",
       "      <td>89.8</td>\n",
       "      <td>1017.8</td>\n",
       "      <td>2000.0</td>\n",
       "      <td>6.0</td>\n",
       "      <td>0.0</td>\n",
       "      <td>13</td>\n",
       "      <td>0</td>\n",
       "    </tr>\n",
       "    <tr>\n",
       "      <th>2016-01-01</th>\n",
       "      <td>0</td>\n",
       "      <td>Special Service</td>\n",
       "      <td>Purpose Built Flats/Maisonettes - 4 to 9 storeys</td>\n",
       "      <td>1</td>\n",
       "      <td>0</td>\n",
       "      <td>3.8</td>\n",
       "      <td>0.0</td>\n",
       "      <td>0</td>\n",
       "      <td>14.0</td>\n",
       "      <td>0.0</td>\n",
       "      <td>89.8</td>\n",
       "      <td>1017.8</td>\n",
       "      <td>2000.0</td>\n",
       "      <td>6.0</td>\n",
       "      <td>0.0</td>\n",
       "      <td>13</td>\n",
       "      <td>0</td>\n",
       "    </tr>\n",
       "    <tr>\n",
       "      <th>2016-01-01</th>\n",
       "      <td>0</td>\n",
       "      <td>False Alarm</td>\n",
       "      <td>Car</td>\n",
       "      <td>1</td>\n",
       "      <td>0</td>\n",
       "      <td>3.8</td>\n",
       "      <td>0.0</td>\n",
       "      <td>0</td>\n",
       "      <td>14.0</td>\n",
       "      <td>0.0</td>\n",
       "      <td>89.8</td>\n",
       "      <td>1017.8</td>\n",
       "      <td>2000.0</td>\n",
       "      <td>6.0</td>\n",
       "      <td>0.0</td>\n",
       "      <td>13</td>\n",
       "      <td>0</td>\n",
       "    </tr>\n",
       "  </tbody>\n",
       "</table>\n",
       "</div>"
      ],
      "text/plain": [
       "            HourOfCall    IncidentGroup  \\\n",
       "ob_time                                   \n",
       "2016-01-01           0      False Alarm   \n",
       "2016-01-01           0  Special Service   \n",
       "2016-01-01           0  Special Service   \n",
       "2016-01-01           0  Special Service   \n",
       "2016-01-01           0      False Alarm   \n",
       "\n",
       "                                                 PropertyType  holiday  \\\n",
       "ob_time                                                                  \n",
       "2016-01-01                          House - single occupancy         1   \n",
       "2016-01-01                                       River/canal         1   \n",
       "2016-01-01  Purpose Built Flats/Maisonettes - 4 to 9 storeys         1   \n",
       "2016-01-01  Purpose Built Flats/Maisonettes - 4 to 9 storeys         1   \n",
       "2016-01-01                                               Car         1   \n",
       "\n",
       "            weekend  air_temperature  cld_ttl_amt_id  islight  max_gust_speed  \\\n",
       "ob_time                                                                         \n",
       "2016-01-01        0              3.8             0.0        0            14.0   \n",
       "2016-01-01        0              3.8             0.0        0            14.0   \n",
       "2016-01-01        0              3.8             0.0        0            14.0   \n",
       "2016-01-01        0              3.8             0.0        0            14.0   \n",
       "2016-01-01        0              3.8             0.0        0            14.0   \n",
       "\n",
       "            prcp_amt  rltv_hum  stn_pres  visibility  wind_speed  \\\n",
       "ob_time                                                            \n",
       "2016-01-01       0.0      89.8    1017.8      2000.0         6.0   \n",
       "2016-01-01       0.0      89.8    1017.8      2000.0         6.0   \n",
       "2016-01-01       0.0      89.8    1017.8      2000.0         6.0   \n",
       "2016-01-01       0.0      89.8    1017.8      2000.0         6.0   \n",
       "2016-01-01       0.0      89.8    1017.8      2000.0         6.0   \n",
       "\n",
       "            wmo_hr_sun_dur  wind_dirc  lockdown  \n",
       "ob_time                                          \n",
       "2016-01-01             0.0         13         0  \n",
       "2016-01-01             0.0         13         0  \n",
       "2016-01-01             0.0         13         0  \n",
       "2016-01-01             0.0         13         0  \n",
       "2016-01-01             0.0         13         0  "
      ]
     },
     "execution_count": 5,
     "metadata": {},
     "output_type": "execute_result"
    }
   ],
   "source": [
    "LFBclass.head()"
   ]
  },
  {
   "cell_type": "code",
   "execution_count": 6,
   "metadata": {
    "ExecuteTime": {
     "end_time": "2021-03-01T09:35:29.501763Z",
     "start_time": "2021-03-01T09:35:29.360810Z"
    }
   },
   "outputs": [
    {
     "name": "stdout",
     "output_type": "stream",
     "text": [
      "<class 'pandas.core.frame.DataFrame'>\n",
      "DatetimeIndex: 518239 entries, 2016-01-01 00:00:00 to 2020-12-31 23:00:00\n",
      "Data columns (total 17 columns):\n",
      " #   Column           Non-Null Count   Dtype  \n",
      "---  ------           --------------   -----  \n",
      " 0   HourOfCall       518239 non-null  int64  \n",
      " 1   IncidentGroup    518239 non-null  object \n",
      " 2   PropertyType     518239 non-null  object \n",
      " 3   holiday          518239 non-null  int64  \n",
      " 4   weekend          518239 non-null  int64  \n",
      " 5   air_temperature  518239 non-null  float64\n",
      " 6   cld_ttl_amt_id   518239 non-null  float64\n",
      " 7   islight          518239 non-null  int64  \n",
      " 8   max_gust_speed   518239 non-null  float64\n",
      " 9   prcp_amt         518239 non-null  float64\n",
      " 10  rltv_hum         518239 non-null  float64\n",
      " 11  stn_pres         518239 non-null  float64\n",
      " 12  visibility       518239 non-null  float64\n",
      " 13  wind_speed       518239 non-null  float64\n",
      " 14  wmo_hr_sun_dur   518239 non-null  float64\n",
      " 15  wind_dirc        518239 non-null  int64  \n",
      " 16  lockdown         518239 non-null  int64  \n",
      "dtypes: float64(9), int64(6), object(2)\n",
      "memory usage: 81.2+ MB\n"
     ]
    }
   ],
   "source": [
    "LFBclass.info()"
   ]
  },
  {
   "cell_type": "code",
   "execution_count": 7,
   "metadata": {
    "ExecuteTime": {
     "end_time": "2021-03-01T09:35:33.464501Z",
     "start_time": "2021-03-01T09:35:33.009873Z"
    }
   },
   "outputs": [
    {
     "data": {
      "text/html": [
       "<div>\n",
       "<style scoped>\n",
       "    .dataframe tbody tr th:only-of-type {\n",
       "        vertical-align: middle;\n",
       "    }\n",
       "\n",
       "    .dataframe tbody tr th {\n",
       "        vertical-align: top;\n",
       "    }\n",
       "\n",
       "    .dataframe thead th {\n",
       "        text-align: right;\n",
       "    }\n",
       "</style>\n",
       "<table border=\"1\" class=\"dataframe\">\n",
       "  <thead>\n",
       "    <tr style=\"text-align: right;\">\n",
       "      <th></th>\n",
       "      <th>HourOfCall</th>\n",
       "      <th>IncidentGroup</th>\n",
       "      <th>PropertyType</th>\n",
       "      <th>holiday</th>\n",
       "      <th>weekend</th>\n",
       "      <th>air_temperature</th>\n",
       "      <th>cld_ttl_amt_id</th>\n",
       "      <th>islight</th>\n",
       "      <th>max_gust_speed</th>\n",
       "      <th>prcp_amt</th>\n",
       "      <th>rltv_hum</th>\n",
       "      <th>stn_pres</th>\n",
       "      <th>visibility</th>\n",
       "      <th>wind_speed</th>\n",
       "      <th>wmo_hr_sun_dur</th>\n",
       "      <th>wind_dirc</th>\n",
       "      <th>lockdown</th>\n",
       "    </tr>\n",
       "  </thead>\n",
       "  <tbody>\n",
       "    <tr>\n",
       "      <th>count</th>\n",
       "      <td>518239.000000</td>\n",
       "      <td>518239</td>\n",
       "      <td>518239</td>\n",
       "      <td>518239.000000</td>\n",
       "      <td>518239.000000</td>\n",
       "      <td>518239.000000</td>\n",
       "      <td>518239.000000</td>\n",
       "      <td>518239.000000</td>\n",
       "      <td>518239.000000</td>\n",
       "      <td>518239.000000</td>\n",
       "      <td>518239.000000</td>\n",
       "      <td>518239.000000</td>\n",
       "      <td>518239.000000</td>\n",
       "      <td>518239.000000</td>\n",
       "      <td>518239.000000</td>\n",
       "      <td>518239.000000</td>\n",
       "      <td>518239.000000</td>\n",
       "    </tr>\n",
       "    <tr>\n",
       "      <th>unique</th>\n",
       "      <td>NaN</td>\n",
       "      <td>3</td>\n",
       "      <td>286</td>\n",
       "      <td>NaN</td>\n",
       "      <td>NaN</td>\n",
       "      <td>NaN</td>\n",
       "      <td>NaN</td>\n",
       "      <td>NaN</td>\n",
       "      <td>NaN</td>\n",
       "      <td>NaN</td>\n",
       "      <td>NaN</td>\n",
       "      <td>NaN</td>\n",
       "      <td>NaN</td>\n",
       "      <td>NaN</td>\n",
       "      <td>NaN</td>\n",
       "      <td>NaN</td>\n",
       "      <td>NaN</td>\n",
       "    </tr>\n",
       "    <tr>\n",
       "      <th>top</th>\n",
       "      <td>NaN</td>\n",
       "      <td>False Alarm</td>\n",
       "      <td>Purpose Built Flats/Maisonettes - 4 to 9 storeys</td>\n",
       "      <td>NaN</td>\n",
       "      <td>NaN</td>\n",
       "      <td>NaN</td>\n",
       "      <td>NaN</td>\n",
       "      <td>NaN</td>\n",
       "      <td>NaN</td>\n",
       "      <td>NaN</td>\n",
       "      <td>NaN</td>\n",
       "      <td>NaN</td>\n",
       "      <td>NaN</td>\n",
       "      <td>NaN</td>\n",
       "      <td>NaN</td>\n",
       "      <td>NaN</td>\n",
       "      <td>NaN</td>\n",
       "    </tr>\n",
       "    <tr>\n",
       "      <th>freq</th>\n",
       "      <td>NaN</td>\n",
       "      <td>260239</td>\n",
       "      <td>65922</td>\n",
       "      <td>NaN</td>\n",
       "      <td>NaN</td>\n",
       "      <td>NaN</td>\n",
       "      <td>NaN</td>\n",
       "      <td>NaN</td>\n",
       "      <td>NaN</td>\n",
       "      <td>NaN</td>\n",
       "      <td>NaN</td>\n",
       "      <td>NaN</td>\n",
       "      <td>NaN</td>\n",
       "      <td>NaN</td>\n",
       "      <td>NaN</td>\n",
       "      <td>NaN</td>\n",
       "      <td>NaN</td>\n",
       "    </tr>\n",
       "    <tr>\n",
       "      <th>mean</th>\n",
       "      <td>13.469129</td>\n",
       "      <td>NaN</td>\n",
       "      <td>NaN</td>\n",
       "      <td>0.023451</td>\n",
       "      <td>0.288620</td>\n",
       "      <td>12.974926</td>\n",
       "      <td>5.047432</td>\n",
       "      <td>0.524721</td>\n",
       "      <td>17.153237</td>\n",
       "      <td>0.077282</td>\n",
       "      <td>72.482067</td>\n",
       "      <td>1012.740564</td>\n",
       "      <td>2753.068580</td>\n",
       "      <td>8.279057</td>\n",
       "      <td>0.154236</td>\n",
       "      <td>10.537368</td>\n",
       "      <td>0.054454</td>\n",
       "    </tr>\n",
       "    <tr>\n",
       "      <th>std</th>\n",
       "      <td>6.242777</td>\n",
       "      <td>NaN</td>\n",
       "      <td>NaN</td>\n",
       "      <td>0.151330</td>\n",
       "      <td>0.453121</td>\n",
       "      <td>6.549272</td>\n",
       "      <td>3.228197</td>\n",
       "      <td>0.499389</td>\n",
       "      <td>10.160868</td>\n",
       "      <td>0.395443</td>\n",
       "      <td>17.882359</td>\n",
       "      <td>10.962255</td>\n",
       "      <td>1414.094253</td>\n",
       "      <td>4.449349</td>\n",
       "      <td>0.322201</td>\n",
       "      <td>4.686315</td>\n",
       "      <td>0.226911</td>\n",
       "    </tr>\n",
       "    <tr>\n",
       "      <th>min</th>\n",
       "      <td>0.000000</td>\n",
       "      <td>NaN</td>\n",
       "      <td>NaN</td>\n",
       "      <td>0.000000</td>\n",
       "      <td>0.000000</td>\n",
       "      <td>-5.000000</td>\n",
       "      <td>0.000000</td>\n",
       "      <td>0.000000</td>\n",
       "      <td>0.000000</td>\n",
       "      <td>0.000000</td>\n",
       "      <td>19.000000</td>\n",
       "      <td>967.800000</td>\n",
       "      <td>6.000000</td>\n",
       "      <td>0.000000</td>\n",
       "      <td>0.000000</td>\n",
       "      <td>1.000000</td>\n",
       "      <td>0.000000</td>\n",
       "    </tr>\n",
       "    <tr>\n",
       "      <th>25%</th>\n",
       "      <td>9.000000</td>\n",
       "      <td>NaN</td>\n",
       "      <td>NaN</td>\n",
       "      <td>0.000000</td>\n",
       "      <td>0.000000</td>\n",
       "      <td>8.100000</td>\n",
       "      <td>2.000000</td>\n",
       "      <td>0.000000</td>\n",
       "      <td>11.000000</td>\n",
       "      <td>0.000000</td>\n",
       "      <td>59.600000</td>\n",
       "      <td>1006.400000</td>\n",
       "      <td>1700.000000</td>\n",
       "      <td>5.000000</td>\n",
       "      <td>0.000000</td>\n",
       "      <td>7.000000</td>\n",
       "      <td>0.000000</td>\n",
       "    </tr>\n",
       "    <tr>\n",
       "      <th>50%</th>\n",
       "      <td>14.000000</td>\n",
       "      <td>NaN</td>\n",
       "      <td>NaN</td>\n",
       "      <td>0.000000</td>\n",
       "      <td>0.000000</td>\n",
       "      <td>12.400000</td>\n",
       "      <td>7.000000</td>\n",
       "      <td>1.000000</td>\n",
       "      <td>15.000000</td>\n",
       "      <td>0.000000</td>\n",
       "      <td>75.700000</td>\n",
       "      <td>1013.900000</td>\n",
       "      <td>2800.000000</td>\n",
       "      <td>8.000000</td>\n",
       "      <td>0.000000</td>\n",
       "      <td>12.000000</td>\n",
       "      <td>0.000000</td>\n",
       "    </tr>\n",
       "    <tr>\n",
       "      <th>75%</th>\n",
       "      <td>19.000000</td>\n",
       "      <td>NaN</td>\n",
       "      <td>NaN</td>\n",
       "      <td>0.000000</td>\n",
       "      <td>1.000000</td>\n",
       "      <td>17.600000</td>\n",
       "      <td>8.000000</td>\n",
       "      <td>1.000000</td>\n",
       "      <td>21.000000</td>\n",
       "      <td>0.000000</td>\n",
       "      <td>87.300000</td>\n",
       "      <td>1020.000000</td>\n",
       "      <td>4000.000000</td>\n",
       "      <td>11.000000</td>\n",
       "      <td>0.000000</td>\n",
       "      <td>14.000000</td>\n",
       "      <td>0.000000</td>\n",
       "    </tr>\n",
       "    <tr>\n",
       "      <th>max</th>\n",
       "      <td>23.000000</td>\n",
       "      <td>NaN</td>\n",
       "      <td>NaN</td>\n",
       "      <td>1.000000</td>\n",
       "      <td>1.000000</td>\n",
       "      <td>37.200000</td>\n",
       "      <td>9.000000</td>\n",
       "      <td>1.000000</td>\n",
       "      <td>96.000000</td>\n",
       "      <td>13.600000</td>\n",
       "      <td>100.000000</td>\n",
       "      <td>1049.600000</td>\n",
       "      <td>7500.000000</td>\n",
       "      <td>36.000000</td>\n",
       "      <td>1.000000</td>\n",
       "      <td>18.000000</td>\n",
       "      <td>1.000000</td>\n",
       "    </tr>\n",
       "  </tbody>\n",
       "</table>\n",
       "</div>"
      ],
      "text/plain": [
       "           HourOfCall IncidentGroup  \\\n",
       "count   518239.000000        518239   \n",
       "unique            NaN             3   \n",
       "top               NaN   False Alarm   \n",
       "freq              NaN        260239   \n",
       "mean        13.469129           NaN   \n",
       "std          6.242777           NaN   \n",
       "min          0.000000           NaN   \n",
       "25%          9.000000           NaN   \n",
       "50%         14.000000           NaN   \n",
       "75%         19.000000           NaN   \n",
       "max         23.000000           NaN   \n",
       "\n",
       "                                             PropertyType        holiday  \\\n",
       "count                                              518239  518239.000000   \n",
       "unique                                                286            NaN   \n",
       "top     Purpose Built Flats/Maisonettes - 4 to 9 storeys             NaN   \n",
       "freq                                                65922            NaN   \n",
       "mean                                                  NaN       0.023451   \n",
       "std                                                   NaN       0.151330   \n",
       "min                                                   NaN       0.000000   \n",
       "25%                                                   NaN       0.000000   \n",
       "50%                                                   NaN       0.000000   \n",
       "75%                                                   NaN       0.000000   \n",
       "max                                                   NaN       1.000000   \n",
       "\n",
       "              weekend  air_temperature  cld_ttl_amt_id        islight  \\\n",
       "count   518239.000000    518239.000000   518239.000000  518239.000000   \n",
       "unique            NaN              NaN             NaN            NaN   \n",
       "top               NaN              NaN             NaN            NaN   \n",
       "freq              NaN              NaN             NaN            NaN   \n",
       "mean         0.288620        12.974926        5.047432       0.524721   \n",
       "std          0.453121         6.549272        3.228197       0.499389   \n",
       "min          0.000000        -5.000000        0.000000       0.000000   \n",
       "25%          0.000000         8.100000        2.000000       0.000000   \n",
       "50%          0.000000        12.400000        7.000000       1.000000   \n",
       "75%          1.000000        17.600000        8.000000       1.000000   \n",
       "max          1.000000        37.200000        9.000000       1.000000   \n",
       "\n",
       "        max_gust_speed       prcp_amt       rltv_hum       stn_pres  \\\n",
       "count    518239.000000  518239.000000  518239.000000  518239.000000   \n",
       "unique             NaN            NaN            NaN            NaN   \n",
       "top                NaN            NaN            NaN            NaN   \n",
       "freq               NaN            NaN            NaN            NaN   \n",
       "mean         17.153237       0.077282      72.482067    1012.740564   \n",
       "std          10.160868       0.395443      17.882359      10.962255   \n",
       "min           0.000000       0.000000      19.000000     967.800000   \n",
       "25%          11.000000       0.000000      59.600000    1006.400000   \n",
       "50%          15.000000       0.000000      75.700000    1013.900000   \n",
       "75%          21.000000       0.000000      87.300000    1020.000000   \n",
       "max          96.000000      13.600000     100.000000    1049.600000   \n",
       "\n",
       "           visibility     wind_speed  wmo_hr_sun_dur      wind_dirc  \\\n",
       "count   518239.000000  518239.000000   518239.000000  518239.000000   \n",
       "unique            NaN            NaN             NaN            NaN   \n",
       "top               NaN            NaN             NaN            NaN   \n",
       "freq              NaN            NaN             NaN            NaN   \n",
       "mean      2753.068580       8.279057        0.154236      10.537368   \n",
       "std       1414.094253       4.449349        0.322201       4.686315   \n",
       "min          6.000000       0.000000        0.000000       1.000000   \n",
       "25%       1700.000000       5.000000        0.000000       7.000000   \n",
       "50%       2800.000000       8.000000        0.000000      12.000000   \n",
       "75%       4000.000000      11.000000        0.000000      14.000000   \n",
       "max       7500.000000      36.000000        1.000000      18.000000   \n",
       "\n",
       "             lockdown  \n",
       "count   518239.000000  \n",
       "unique            NaN  \n",
       "top               NaN  \n",
       "freq              NaN  \n",
       "mean         0.054454  \n",
       "std          0.226911  \n",
       "min          0.000000  \n",
       "25%          0.000000  \n",
       "50%          0.000000  \n",
       "75%          0.000000  \n",
       "max          1.000000  "
      ]
     },
     "execution_count": 7,
     "metadata": {},
     "output_type": "execute_result"
    }
   ],
   "source": [
    "LFBclass.describe(include = 'all')"
   ]
  },
  {
   "cell_type": "code",
   "execution_count": 8,
   "metadata": {
    "ExecuteTime": {
     "end_time": "2021-03-01T09:35:35.373754Z",
     "start_time": "2021-03-01T09:35:35.280829Z"
    }
   },
   "outputs": [
    {
     "data": {
      "text/plain": [
       "False Alarm        0.502160\n",
       "Special Service    0.313774\n",
       "Fire               0.184066\n",
       "Name: IncidentGroup, dtype: float64"
      ]
     },
     "execution_count": 8,
     "metadata": {},
     "output_type": "execute_result"
    }
   ],
   "source": [
    "y = LFBclass.pop('IncidentGroup')\n",
    "y.value_counts(normalize = True)"
   ]
  },
  {
   "cell_type": "code",
   "execution_count": null,
   "metadata": {},
   "outputs": [],
   "source": []
  },
  {
   "cell_type": "code",
   "execution_count": 9,
   "metadata": {
    "ExecuteTime": {
     "end_time": "2021-03-01T09:35:43.565671Z",
     "start_time": "2021-03-01T09:35:41.794764Z"
    }
   },
   "outputs": [],
   "source": [
    "dummify = ['wind_dirc','PropertyType', 'HourOfCall']\n",
    "X = pd.get_dummies(LFBclass, columns=dummify, drop_first=True)"
   ]
  },
  {
   "cell_type": "code",
   "execution_count": 10,
   "metadata": {
    "ExecuteTime": {
     "end_time": "2021-03-01T09:35:51.683425Z",
     "start_time": "2021-03-01T09:35:47.620814Z"
    }
   },
   "outputs": [],
   "source": [
    "X_train, X_test, y_train, y_test = train_test_split(\n",
    "    X, y, test_size=0.9, stratify=y, random_state=1)\n",
    "scaler = StandardScaler()\n",
    "X_train = scaler.fit_transform(X_train)\n",
    "X_test = scaler.transform(X_test)"
   ]
  },
  {
   "cell_type": "code",
   "execution_count": 11,
   "metadata": {
    "ExecuteTime": {
     "end_time": "2021-03-01T09:35:51.699415Z",
     "start_time": "2021-03-01T09:35:51.685423Z"
    }
   },
   "outputs": [],
   "source": [
    "from sklearn.svm import SVC\n",
    "from sklearn import svm"
   ]
  },
  {
   "cell_type": "code",
   "execution_count": 12,
   "metadata": {
    "ExecuteTime": {
     "end_time": "2021-03-01T10:44:48.962675Z",
     "start_time": "2021-03-01T09:35:53.589804Z"
    }
   },
   "outputs": [
    {
     "name": "stdout",
     "output_type": "stream",
     "text": [
      "Score  0.6635663701445305\n"
     ]
    }
   ],
   "source": [
    "clf = svm.SVC()\n",
    "clf.fit(X_train, y_train)\n",
    "print( 'Score ',clf.score(X_train, y_train))"
   ]
  },
  {
   "cell_type": "code",
   "execution_count": 13,
   "metadata": {
    "ExecuteTime": {
     "end_time": "2021-03-01T15:10:46.856063Z",
     "start_time": "2021-03-01T13:01:01.433749Z"
    }
   },
   "outputs": [
    {
     "name": "stdout",
     "output_type": "stream",
     "text": [
      "Score  0.6579598470035333\n"
     ]
    }
   ],
   "source": [
    "print( 'Score ',clf.score(X_test, y_test))"
   ]
  },
  {
   "cell_type": "code",
   "execution_count": 14,
   "metadata": {
    "ExecuteTime": {
     "end_time": "2021-03-02T01:09:14.324514Z",
     "start_time": "2021-03-01T15:24:38.806120Z"
    }
   },
   "outputs": [
    {
     "name": "stdout",
     "output_type": "stream",
     "text": [
      "[LibSVM]Train Score  0.6622574700666686\n",
      "Test Score  0.6582881483482557\n"
     ]
    }
   ],
   "source": [
    "X_train, X_test, y_train, y_test = train_test_split(\n",
    "    X, y, test_size=0.8, stratify=y, random_state=1)\n",
    "scaler = StandardScaler()\n",
    "X_train = scaler.fit_transform(X_train)\n",
    "X_test = scaler.transform(X_test)\n",
    "clf = svm.SVC(verbose = True)\n",
    "clf.fit(X_train, y_train)\n",
    "print( 'Train Score ',clf.score(X_train, y_train))\n",
    "print( 'Test Score ',clf.score(X_test, y_test))"
   ]
  }
 ],
 "metadata": {
  "kernelspec": {
   "display_name": "Python 3",
   "language": "python",
   "name": "python3"
  },
  "language_info": {
   "codemirror_mode": {
    "name": "ipython",
    "version": 3
   },
   "file_extension": ".py",
   "mimetype": "text/x-python",
   "name": "python",
   "nbconvert_exporter": "python",
   "pygments_lexer": "ipython3",
   "version": "3.8.5"
  },
  "toc": {
   "base_numbering": 1,
   "nav_menu": {},
   "number_sections": true,
   "sideBar": true,
   "skip_h1_title": false,
   "title_cell": "Table of Contents",
   "title_sidebar": "Contents",
   "toc_cell": false,
   "toc_position": {},
   "toc_section_display": true,
   "toc_window_display": false
  }
 },
 "nbformat": 4,
 "nbformat_minor": 4
}
