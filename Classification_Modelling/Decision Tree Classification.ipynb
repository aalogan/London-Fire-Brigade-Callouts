{
 "cells": [
  {
   "cell_type": "code",
   "execution_count": 1,
   "metadata": {
    "ExecuteTime": {
     "end_time": "2021-03-15T15:43:08.037576Z",
     "start_time": "2021-03-15T15:43:05.390043Z"
    }
   },
   "outputs": [],
   "source": [
    "import pandas as pd\n",
    "import numpy as np\n",
    "import datetime\n",
    "from datetime import timedelta\n",
    "import matplotlib.pyplot as plt\n",
    "import seaborn as sns\n",
    "\n",
    "plt.style.use('fivethirtyeight')\n",
    "\n",
    "%matplotlib inline\n",
    "%config InlineBackend.figure_format = 'retina'"
   ]
  },
  {
   "cell_type": "code",
   "execution_count": 2,
   "metadata": {
    "ExecuteTime": {
     "end_time": "2021-03-15T15:43:10.018111Z",
     "start_time": "2021-03-15T15:43:08.967057Z"
    }
   },
   "outputs": [],
   "source": [
    "from sklearn.preprocessing import StandardScaler\n",
    "from sklearn.model_selection import train_test_split, cross_val_score\n",
    "from sklearn.metrics import classification_report, mean_squared_error,r2_score\n",
    "from sklearn.metrics import confusion_matrix, accuracy_score, plot_confusion_matrix\n",
    "from sklearn.model_selection import GridSearchCV\n",
    "from sklearn.tree import DecisionTreeClassifier\n",
    "from sklearn import metrics\n",
    "import scikitplot as skplt"
   ]
  },
  {
   "cell_type": "code",
   "execution_count": 3,
   "metadata": {
    "ExecuteTime": {
     "end_time": "2021-03-15T15:43:14.216802Z",
     "start_time": "2021-03-15T15:43:10.887060Z"
    }
   },
   "outputs": [],
   "source": [
    "LFBclass = pd.read_csv('../Assets/LFBClass.csv')\n",
    "LFBclass['ob_time'] = pd.to_datetime(LFBclass.ob_time)\n",
    "LFBclass.set_index('ob_time', inplace=True, drop=True)\n",
    "y = LFBclass.pop('IncidentGroup')\n",
    "dummify = ['wind_dirc','PropertyType', 'HourOfCall']\n",
    "X = pd.get_dummies(LFBclass, columns=dummify, drop_first=True)"
   ]
  },
  {
   "cell_type": "code",
   "execution_count": 4,
   "metadata": {
    "ExecuteTime": {
     "end_time": "2021-03-15T15:43:20.045333Z",
     "start_time": "2021-03-15T15:43:17.732280Z"
    }
   },
   "outputs": [],
   "source": [
    "X_train, X_test, y_train, y_test = train_test_split(\n",
    "    X, y, stratify = y, test_size=0.2, random_state=1)"
   ]
  },
  {
   "cell_type": "code",
   "execution_count": 5,
   "metadata": {
    "ExecuteTime": {
     "end_time": "2021-03-15T15:43:27.955864Z",
     "start_time": "2021-03-15T15:43:22.826644Z"
    }
   },
   "outputs": [],
   "source": [
    "scaler = StandardScaler()\n",
    "X_train = scaler.fit_transform(X_train)\n",
    "X_test = scaler.transform(X_test)"
   ]
  },
  {
   "cell_type": "code",
   "execution_count": 6,
   "metadata": {
    "ExecuteTime": {
     "end_time": "2021-03-15T15:43:30.512068Z",
     "start_time": "2021-03-15T15:43:30.506074Z"
    }
   },
   "outputs": [],
   "source": [
    "# gridsearch params - decision tree classifier\n",
    "dtc_params = {\n",
    "    'max_depth': list(range(1, 8))+[None],\n",
    "    'max_features': [None, 1, 3],\n",
    "    'min_samples_split': [2, 3, 4, 5, 10, 15, 25, 40, 50],\n",
    "    'ccp_alpha': [0.001, 0.005, 0.01]\n",
    "}\n",
    "\n",
    "# set the gridsearch\n",
    "modeldtc = DecisionTreeClassifier()\n",
    "dtc_gs = GridSearchCV(modeldtc, dtc_params, cv=5, verbose=1, n_jobs=-2)"
   ]
  },
  {
   "cell_type": "code",
   "execution_count": null,
   "metadata": {
    "ExecuteTime": {
     "start_time": "2021-03-15T15:43:34.368Z"
    }
   },
   "outputs": [
    {
     "name": "stdout",
     "output_type": "stream",
     "text": [
      "Fitting 5 folds for each of 648 candidates, totalling 3240 fits\n"
     ]
    },
    {
     "name": "stderr",
     "output_type": "stream",
     "text": [
      "[Parallel(n_jobs=-2)]: Using backend LokyBackend with 3 concurrent workers.\n",
      "[Parallel(n_jobs=-2)]: Done  44 tasks      | elapsed:  2.4min\n",
      "[Parallel(n_jobs=-2)]: Done 194 tasks      | elapsed:  8.2min\n",
      "[Parallel(n_jobs=-2)]: Done 444 tasks      | elapsed: 22.4min\n",
      "[Parallel(n_jobs=-2)]: Done 794 tasks      | elapsed: 44.7min\n"
     ]
    }
   ],
   "source": [
    "\n",
    "dtc_gs.fit(X_train, y_train)\n",
    "dtc_best = dtc_gs.best_estimator_\n",
    "print(dtc_gs.best_params_)\n",
    "print(dtc_gs.best_score_)"
   ]
  },
  {
   "cell_type": "code",
   "execution_count": null,
   "metadata": {
    "ExecuteTime": {
     "start_time": "2021-03-15T15:44:29.846Z"
    }
   },
   "outputs": [],
   "source": [
    "fi = pd.DataFrame({\n",
    "    'feature': X.columns,\n",
    "    'importance': dtc_best.feature_importances_\n",
    "})\n",
    "\n",
    "fi.sort_values('importance', ascending=False, inplace=True)\n",
    "fi.head(15)"
   ]
  },
  {
   "cell_type": "code",
   "execution_count": null,
   "metadata": {},
   "outputs": [],
   "source": []
  }
 ],
 "metadata": {
  "kernelspec": {
   "display_name": "Python 3",
   "language": "python",
   "name": "python3"
  },
  "language_info": {
   "codemirror_mode": {
    "name": "ipython",
    "version": 3
   },
   "file_extension": ".py",
   "mimetype": "text/x-python",
   "name": "python",
   "nbconvert_exporter": "python",
   "pygments_lexer": "ipython3",
   "version": "3.8.5"
  },
  "toc": {
   "base_numbering": 1,
   "nav_menu": {},
   "number_sections": true,
   "sideBar": true,
   "skip_h1_title": false,
   "title_cell": "Table of Contents",
   "title_sidebar": "Contents",
   "toc_cell": false,
   "toc_position": {},
   "toc_section_display": true,
   "toc_window_display": false
  }
 },
 "nbformat": 4,
 "nbformat_minor": 4
}
