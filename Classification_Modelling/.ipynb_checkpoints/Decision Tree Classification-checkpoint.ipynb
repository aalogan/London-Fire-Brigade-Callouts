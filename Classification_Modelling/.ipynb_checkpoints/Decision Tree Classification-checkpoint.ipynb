{
 "cells": [
  {
   "cell_type": "code",
   "execution_count": 1,
   "metadata": {
    "ExecuteTime": {
     "end_time": "2021-03-15T15:43:08.037576Z",
     "start_time": "2021-03-15T15:43:05.390043Z"
    }
   },
   "outputs": [],
   "source": [
    "import pandas as pd\n",
    "import numpy as np\n",
    "import datetime\n",
    "from datetime import timedelta\n",
    "import matplotlib.pyplot as plt\n",
    "import seaborn as sns\n",
    "\n",
    "plt.style.use('fivethirtyeight')\n",
    "\n",
    "%matplotlib inline\n",
    "%config InlineBackend.figure_format = 'retina'"
   ]
  },
  {
   "cell_type": "code",
   "execution_count": 2,
   "metadata": {
    "ExecuteTime": {
     "end_time": "2021-03-15T15:43:10.018111Z",
     "start_time": "2021-03-15T15:43:08.967057Z"
    }
   },
   "outputs": [],
   "source": [
    "from sklearn.preprocessing import StandardScaler\n",
    "from sklearn.model_selection import train_test_split, cross_val_score\n",
    "from sklearn.metrics import classification_report, mean_squared_error,r2_score\n",
    "from sklearn.metrics import confusion_matrix, accuracy_score, plot_confusion_matrix\n",
    "from sklearn.model_selection import GridSearchCV\n",
    "from sklearn.tree import DecisionTreeClassifier\n",
    "from sklearn import metrics\n",
    "import scikitplot as skplt"
   ]
  },
  {
   "cell_type": "code",
   "execution_count": 3,
   "metadata": {
    "ExecuteTime": {
     "end_time": "2021-03-15T15:43:14.216802Z",
     "start_time": "2021-03-15T15:43:10.887060Z"
    }
   },
   "outputs": [],
   "source": [
    "LFBclass = pd.read_csv('../Assets/LFBClass.csv')\n",
    "LFBclass['ob_time'] = pd.to_datetime(LFBclass.ob_time)\n",
    "LFBclass.set_index('ob_time', inplace=True, drop=True)\n",
    "y = LFBclass.pop('IncidentGroup')\n",
    "dummify = ['wind_dirc','PropertyType', 'HourOfCall']\n",
    "X = pd.get_dummies(LFBclass, columns=dummify, drop_first=True)"
   ]
  },
  {
   "cell_type": "code",
   "execution_count": 4,
   "metadata": {
    "ExecuteTime": {
     "end_time": "2021-03-15T15:43:20.045333Z",
     "start_time": "2021-03-15T15:43:17.732280Z"
    }
   },
   "outputs": [],
   "source": [
    "X_train, X_test, y_train, y_test = train_test_split(\n",
    "    X, y, stratify = y, test_size=0.2, random_state=1)"
   ]
  },
  {
   "cell_type": "code",
   "execution_count": 5,
   "metadata": {
    "ExecuteTime": {
     "end_time": "2021-03-15T15:43:27.955864Z",
     "start_time": "2021-03-15T15:43:22.826644Z"
    }
   },
   "outputs": [],
   "source": [
    "scaler = StandardScaler()\n",
    "X_train = scaler.fit_transform(X_train)\n",
    "X_test = scaler.transform(X_test)"
   ]
  },
  {
   "cell_type": "code",
   "execution_count": 6,
   "metadata": {
    "ExecuteTime": {
     "end_time": "2021-03-15T15:43:30.512068Z",
     "start_time": "2021-03-15T15:43:30.506074Z"
    }
   },
   "outputs": [],
   "source": [
    "# gridsearch params - decision tree classifier\n",
    "dtc_params = {\n",
    "    'max_depth': list(range(1, 8))+[None],\n",
    "    'max_features': [None, 1, 3],\n",
    "    'min_samples_split': [2, 3, 4, 5, 10, 15, 25, 40, 50],\n",
    "    'ccp_alpha': [0.001, 0.005, 0.01]\n",
    "}\n",
    "\n",
    "# set the gridsearch\n",
    "modeldtc = DecisionTreeClassifier()\n",
    "dtc_gs = GridSearchCV(modeldtc, dtc_params, cv=5, verbose=1, n_jobs=-2)"
   ]
  },
  {
   "cell_type": "code",
   "execution_count": 7,
   "metadata": {
    "ExecuteTime": {
     "end_time": "2021-03-15T23:47:16.061397Z",
     "start_time": "2021-03-15T15:43:34.370069Z"
    }
   },
   "outputs": [
    {
     "name": "stdout",
     "output_type": "stream",
     "text": [
      "Fitting 5 folds for each of 648 candidates, totalling 3240 fits\n"
     ]
    },
    {
     "name": "stderr",
     "output_type": "stream",
     "text": [
      "[Parallel(n_jobs=-2)]: Using backend LokyBackend with 3 concurrent workers.\n",
      "[Parallel(n_jobs=-2)]: Done  44 tasks      | elapsed:  2.4min\n",
      "[Parallel(n_jobs=-2)]: Done 194 tasks      | elapsed:  8.2min\n",
      "[Parallel(n_jobs=-2)]: Done 444 tasks      | elapsed: 22.4min\n",
      "[Parallel(n_jobs=-2)]: Done 794 tasks      | elapsed: 44.7min\n",
      "[Parallel(n_jobs=-2)]: Done 1244 tasks      | elapsed: 152.6min\n",
      "[Parallel(n_jobs=-2)]: Done 1794 tasks      | elapsed: 194.7min\n",
      "[Parallel(n_jobs=-2)]: Done 2444 tasks      | elapsed: 364.0min\n",
      "[Parallel(n_jobs=-2)]: Done 3194 tasks      | elapsed: 470.5min\n",
      "[Parallel(n_jobs=-2)]: Done 3240 out of 3240 | elapsed: 481.4min finished\n"
     ]
    },
    {
     "name": "stdout",
     "output_type": "stream",
     "text": [
      "{'ccp_alpha': 0.001, 'max_depth': None, 'max_features': None, 'min_samples_split': 2}\n",
      "0.645183076848859\n"
     ]
    }
   ],
   "source": [
    "\n",
    "dtc_gs.fit(X_train, y_train)\n",
    "dtc_best = dtc_gs.best_estimator_\n",
    "print(dtc_gs.best_params_)\n",
    "print(dtc_gs.best_score_)"
   ]
  },
  {
   "cell_type": "code",
   "execution_count": 8,
   "metadata": {
    "ExecuteTime": {
     "end_time": "2021-03-15T23:47:16.218309Z",
     "start_time": "2021-03-15T23:47:16.072389Z"
    }
   },
   "outputs": [
    {
     "data": {
      "text/html": [
       "<div>\n",
       "<style scoped>\n",
       "    .dataframe tbody tr th:only-of-type {\n",
       "        vertical-align: middle;\n",
       "    }\n",
       "\n",
       "    .dataframe tbody tr th {\n",
       "        vertical-align: top;\n",
       "    }\n",
       "\n",
       "    .dataframe thead th {\n",
       "        text-align: right;\n",
       "    }\n",
       "</style>\n",
       "<table border=\"1\" class=\"dataframe\">\n",
       "  <thead>\n",
       "    <tr style=\"text-align: right;\">\n",
       "      <th></th>\n",
       "      <th>feature</th>\n",
       "      <th>importance</th>\n",
       "    </tr>\n",
       "  </thead>\n",
       "  <tbody>\n",
       "    <tr>\n",
       "      <th>264</th>\n",
       "      <td>PropertyType_Small refuse/rubbish container</td>\n",
       "      <td>0.117488</td>\n",
       "    </tr>\n",
       "    <tr>\n",
       "      <th>69</th>\n",
       "      <td>PropertyType_Car</td>\n",
       "      <td>0.085432</td>\n",
       "    </tr>\n",
       "    <tr>\n",
       "      <th>176</th>\n",
       "      <td>PropertyType_Multiple Vehicles</td>\n",
       "      <td>0.071756</td>\n",
       "    </tr>\n",
       "    <tr>\n",
       "      <th>236</th>\n",
       "      <td>PropertyType_Purpose Built Flats/Maisonettes -...</td>\n",
       "      <td>0.068138</td>\n",
       "    </tr>\n",
       "    <tr>\n",
       "      <th>159</th>\n",
       "      <td>PropertyType_Loose refuse</td>\n",
       "      <td>0.065959</td>\n",
       "    </tr>\n",
       "    <tr>\n",
       "      <th>259</th>\n",
       "      <td>PropertyType_Self contained Sheltered Housing</td>\n",
       "      <td>0.049610</td>\n",
       "    </tr>\n",
       "    <tr>\n",
       "      <th>149</th>\n",
       "      <td>PropertyType_Large refuse/rubbish container (e...</td>\n",
       "      <td>0.045675</td>\n",
       "    </tr>\n",
       "    <tr>\n",
       "      <th>238</th>\n",
       "      <td>PropertyType_Purpose built office</td>\n",
       "      <td>0.041826</td>\n",
       "    </tr>\n",
       "    <tr>\n",
       "      <th>251</th>\n",
       "      <td>PropertyType_Road surface/pavement</td>\n",
       "      <td>0.037893</td>\n",
       "    </tr>\n",
       "    <tr>\n",
       "      <th>237</th>\n",
       "      <td>PropertyType_Purpose Built Flats/Maisonettes -...</td>\n",
       "      <td>0.037721</td>\n",
       "    </tr>\n",
       "    <tr>\n",
       "      <th>235</th>\n",
       "      <td>PropertyType_Purpose Built Flats/Maisonettes -...</td>\n",
       "      <td>0.030946</td>\n",
       "    </tr>\n",
       "    <tr>\n",
       "      <th>99</th>\n",
       "      <td>PropertyType_Domestic garden (vegetation not e...</td>\n",
       "      <td>0.030081</td>\n",
       "    </tr>\n",
       "    <tr>\n",
       "      <th>297</th>\n",
       "      <td>PropertyType_Tree scrub</td>\n",
       "      <td>0.029973</td>\n",
       "    </tr>\n",
       "    <tr>\n",
       "      <th>310</th>\n",
       "      <td>PropertyType_Wheelie bin (domestic size)</td>\n",
       "      <td>0.029155</td>\n",
       "    </tr>\n",
       "    <tr>\n",
       "      <th>87</th>\n",
       "      <td>PropertyType_Converted Flat/Maisonette - Up to...</td>\n",
       "      <td>0.026684</td>\n",
       "    </tr>\n",
       "  </tbody>\n",
       "</table>\n",
       "</div>"
      ],
      "text/plain": [
       "                                               feature  importance\n",
       "264        PropertyType_Small refuse/rubbish container    0.117488\n",
       "69                                   PropertyType_Car     0.085432\n",
       "176                    PropertyType_Multiple Vehicles     0.071756\n",
       "236  PropertyType_Purpose Built Flats/Maisonettes -...    0.068138\n",
       "159                         PropertyType_Loose refuse     0.065959\n",
       "259     PropertyType_Self contained Sheltered Housing     0.049610\n",
       "149  PropertyType_Large refuse/rubbish container (e...    0.045675\n",
       "238                 PropertyType_Purpose built office     0.041826\n",
       "251                PropertyType_Road surface/pavement     0.037893\n",
       "237  PropertyType_Purpose Built Flats/Maisonettes -...    0.037721\n",
       "235  PropertyType_Purpose Built Flats/Maisonettes -...    0.030946\n",
       "99   PropertyType_Domestic garden (vegetation not e...    0.030081\n",
       "297                           PropertyType_Tree scrub     0.029973\n",
       "310           PropertyType_Wheelie bin (domestic size)    0.029155\n",
       "87   PropertyType_Converted Flat/Maisonette - Up to...    0.026684"
      ]
     },
     "execution_count": 8,
     "metadata": {},
     "output_type": "execute_result"
    }
   ],
   "source": [
    "fi = pd.DataFrame({\n",
    "    'feature': X.columns,\n",
    "    'importance': dtc_best.feature_importances_\n",
    "})\n",
    "\n",
    "fi.sort_values('importance', ascending=False, inplace=True)\n",
    "fi.head(15)"
   ]
  },
  {
   "cell_type": "code",
   "execution_count": null,
   "metadata": {},
   "outputs": [],
   "source": []
  }
 ],
 "metadata": {
  "kernelspec": {
   "display_name": "Python 3",
   "language": "python",
   "name": "python3"
  },
  "language_info": {
   "codemirror_mode": {
    "name": "ipython",
    "version": 3
   },
   "file_extension": ".py",
   "mimetype": "text/x-python",
   "name": "python",
   "nbconvert_exporter": "python",
   "pygments_lexer": "ipython3",
   "version": "3.8.5"
  },
  "toc": {
   "base_numbering": 1,
   "nav_menu": {},
   "number_sections": true,
   "sideBar": true,
   "skip_h1_title": false,
   "title_cell": "Table of Contents",
   "title_sidebar": "Contents",
   "toc_cell": false,
   "toc_position": {},
   "toc_section_display": true,
   "toc_window_display": false
  }
 },
 "nbformat": 4,
 "nbformat_minor": 4
}
